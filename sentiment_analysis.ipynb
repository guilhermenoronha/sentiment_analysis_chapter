{
 "cells": [
  {
   "cell_type": "markdown",
   "id": "f1554375-09b4-4b82-bcf2-0aa484431f0f",
   "metadata": {},
   "source": [
    "## Análise de sentimentos"
   ]
  },
  {
   "cell_type": "markdown",
   "id": "4124958f-e220-43d6-b793-94e930fe324a",
   "metadata": {},
   "source": [
    "### Importando as bibliotecas necessárias para o projeto"
   ]
  },
  {
   "cell_type": "code",
   "execution_count": 1,
   "id": "57d6de7d-8e01-41c3-a353-b6f2323886c9",
   "metadata": {
    "tags": []
   },
   "outputs": [],
   "source": [
    "import pandas as pd\n",
    "import emoji\n",
    "import spacy\n",
    "from sklearn.model_selection import train_test_split\n",
    "from sklearn.pipeline import Pipeline\n",
    "from sklearn.feature_extraction.text import TfidfVectorizer\n",
    "from sklearn.metrics import confusion_matrix, classification_report, accuracy_score\n",
    "from sklearn.svm import LinearSVC"
   ]
  },
  {
   "cell_type": "markdown",
   "id": "7a548c14-406a-40f4-827b-8fff83e53f21",
   "metadata": {},
   "source": [
    "### Carregando o spaCy em português"
   ]
  },
  {
   "cell_type": "code",
   "execution_count": 2,
   "id": "f2790c2f-7131-4620-bab9-259d81b53d92",
   "metadata": {
    "tags": []
   },
   "outputs": [],
   "source": [
    "nlp = spacy.load('pt_core_news_lg')"
   ]
  },
  {
   "cell_type": "markdown",
   "id": "b8a5e4da-0613-46f4-8d10-a6d9267a4109",
   "metadata": {},
   "source": [
    "### Lendo a base de dados diretamente do repositório do Github"
   ]
  },
  {
   "cell_type": "code",
   "execution_count": 3,
   "id": "922f3c1c-6b16-4f80-88cd-8e5e283b9f5b",
   "metadata": {
    "tags": []
   },
   "outputs": [],
   "source": [
    "df = pd.read_csv(\n",
    "    'https://github.com/guilhermenoronha/sentiment_analysis_chapter/raw/main/dataset/sentiment_analysis.zip', \n",
    "    sep=',',\n",
    "    index_col=[0]\n",
    ")\n",
    "pd.set_option('display.max_colwidth', None)"
   ]
  },
  {
   "cell_type": "markdown",
   "id": "d8aa1159-25d9-4d15-91c0-88eaf8ef6e71",
   "metadata": {},
   "source": [
    "### Verificando a quantidade de linhas e colunas da base de dados"
   ]
  },
  {
   "cell_type": "code",
   "execution_count": 4,
   "id": "06201dd9-14fd-40d2-9b0f-beba5c98dbaa",
   "metadata": {
    "tags": []
   },
   "outputs": [
    {
     "data": {
      "text/plain": [
       "(49459, 3)"
      ]
     },
     "execution_count": 4,
     "metadata": {},
     "output_type": "execute_result"
    }
   ],
   "source": [
    "df.shape"
   ]
  },
  {
   "cell_type": "markdown",
   "id": "43e86b21-d088-4b43-b6b5-bd5692cea878",
   "metadata": {
    "tags": []
   },
   "source": [
    "### Verificando a estrutura da base por meio de uma amostra simples"
   ]
  },
  {
   "cell_type": "code",
   "execution_count": 5,
   "id": "4ed7c78c-ba4f-4a04-8310-ca3a575e57be",
   "metadata": {
    "tags": []
   },
   "outputs": [
    {
     "data": {
      "text/html": [
       "<div>\n",
       "<style scoped>\n",
       "    .dataframe tbody tr th:only-of-type {\n",
       "        vertical-align: middle;\n",
       "    }\n",
       "\n",
       "    .dataframe tbody tr th {\n",
       "        vertical-align: top;\n",
       "    }\n",
       "\n",
       "    .dataframe thead th {\n",
       "        text-align: right;\n",
       "    }\n",
       "</style>\n",
       "<table border=\"1\" class=\"dataframe\">\n",
       "  <thead>\n",
       "    <tr style=\"text-align: right;\">\n",
       "      <th></th>\n",
       "      <th>id</th>\n",
       "      <th>text_pt</th>\n",
       "      <th>sentiment</th>\n",
       "    </tr>\n",
       "  </thead>\n",
       "  <tbody>\n",
       "    <tr>\n",
       "      <th>0</th>\n",
       "      <td>1</td>\n",
       "      <td>Mais uma vez, o Sr. Costner arrumou um filme por muito mais tempo do que o necessário. Além das terríveis seqüências de resgate no mar, das quais há muito poucas, eu simplesmente não me importei com nenhum dos personagens. A maioria de nós tem fantasmas no armário, e o personagem Costers é realizado logo no início, e depois esquecido até muito mais tarde, quando eu não me importava. O personagem com o qual deveríamos nos importar é muito arrogante e superconfiante, Ashton Kutcher. O problema é que ele sai como um garoto que pensa que é melhor do que qualquer outra pessoa ao seu redor e não mostra sinais de um armário desordenado. Seu único obstáculo parece estar vencendo Costner. Finalmente, quando estamos bem além do meio do caminho, Costner nos conta sobre os fantasmas dos Kutchers. Somos informados de por que Kutcher é levado a ser o melhor sem pressentimentos ou presságios anteriores. Nenhuma mágica aqui, era tudo que eu podia fazer para não desligar uma hora.</td>\n",
       "      <td>negativo</td>\n",
       "    </tr>\n",
       "    <tr>\n",
       "      <th>1</th>\n",
       "      <td>2</td>\n",
       "      <td>Este é um exemplo do motivo pelo qual a maioria dos filmes de ação são os mesmos. Genérico e chato, não há nada que valha a pena assistir aqui. Um completo desperdício dos talentos de Ice-T e Cubo de Gelo que foram mal aproveitados, cada um comprovando que são capazes de atuar e agir bem. Não se incomode com este, vá ver New Jack City, Ricochet ou assistir New York Undercover para Ice-T, ou Boyz no Hood, Higher Learning ou Friday for Ice Cube e ver o negócio real. Ice-Ts horrivelmente clichê diálogo sozinho faz este filme ralar os dentes, e eu ainda estou me perguntando o que diabos Bill Paxton estava fazendo neste filme? E por que diabos ele sempre interpreta exatamente o mesmo personagem? Dos extraterrestres em diante, todos os filmes que eu vi com Bill Paxton o fizeram interpretar exatamente o mesmo personagem irritante, e pelo menos em Aliens seu personagem morreu, o que o tornou um pouco gratificante ... No geral, esse é lixo de ação de segunda classe. Existem incontáveis ​​filmes melhores para ver, e se você realmente quiser ver esse filme, assista a Judgment Night, que é praticamente uma cópia carbono, mas tem melhor atuação e um roteiro melhor. A única coisa que fez isso valer a pena assistir foi uma mão decente na câmera - a cinematografia era quase refrescante, o que chega perto de compensar o horrível filme em si - mas não é bem assim. 4/10</td>\n",
       "      <td>negativo</td>\n",
       "    </tr>\n",
       "    <tr>\n",
       "      <th>2</th>\n",
       "      <td>3</td>\n",
       "      <td>Primeiro de tudo eu odeio esses raps imbecis, que não poderiam agir se tivessem uma arma pressionada contra suas testas. Tudo o que eles fazem é amaldiçoar e atirar um no outro e agir como uma versão clichê de gangsters. O filme não leva mais de cinco minutos para explicar o que está acontecendo antes que já estivessem no armazém. Não há um único personagem simpático nesse filme, com exceção do sem-teto, que também é o único com metade do cérebro. William Paxton e William Sadler são ambos \"hill billies\" e Sadler é tão vilão quanto os gângsteres. Eu não gostava dele desde o começo. O filme está cheio de violência sem sentido e especialidade de Walter Hills: pessoas caindo de janelas com vidros voando por toda parte. Não há praticamente nenhum enredo e é um grande problema quando você torce por ninguém. Todo mundo morre, exceto Paxton e o sem-teto e todos recebem o que merecem. Os dois únicos negros que podem atuar são o sem-teto e o viciado, mas são atores de profissão, não irritantes rappers feios. Fique longe dessa porcaria. e observe 48 horas 1 e 2 em vez disso. No mínimo, eles têm personagens de que você gosta, senso de humor e nada além de atores reais no elenco.</td>\n",
       "      <td>negativo</td>\n",
       "    </tr>\n",
       "    <tr>\n",
       "      <th>3</th>\n",
       "      <td>4</td>\n",
       "      <td>Nem mesmo os Beatles puderam escrever músicas que todos gostassem, e embora Walter Hill não seja um mop-top, ele é incomparável quando se trata de filmes de ação instigantes. Os anos noventa chegaram e as plataformas sociais estavam mudando em música e cinema, o surgimento da estrela de cinema do Rapper estava em pleno andamento, a atuação ficou em segundo plano para cada homem dominar o sotaque regional e a atuação transparente. Este foi um dos muitos filmes de ice-t que eu vi quando criança e amei, só para assisti-los mais tarde e me encolher. Bill Paxton e William Sadler são bombeiros com vidas básicas até que um inquilino em chamas prestes a pegar fogo com um mapa com implicações douradas. Eu entrego a Walter para rapidamente e ordenadamente configurar os personagens principais e localização. Mas eu culpo todos os envolvidos por produzir performances do Lame-o. O gelo e o cubo devem ter ficado muito quentes neste momento, e embora eu tenha gostado de suas carreiras como rappers, na minha opinião, eles ficaram insatisfeitos com esse filme. São cerca de noventa minutos de um cara ridiculamente virando as costas para o outro cara até o ponto em que você se encontra bloqueado em múltiplos estados de descrença. Agora este é um filme, não é um documentário, então eu não vou perder meu tempo recontando todas as reviravoltas estúpidas neste filme, mas havia muitos, e eles não levaram a lugar nenhum. Eu tenho a sensação de ver isso que todo mundo no set era sordeto de confuso e apenas jogando as coisas fora do punho. Há duas coisas que eu ainda gosto, uma envolve uma cena com uma agulha e a outra é uma enorme pistola 45 Sadlers. Bottom line este filme é como pizza de dominó. Sim, eu comeria se estivesse com fome e eu não estivesse com vontade de cozinhar, mas eu estou bem ciente que tem gosto de porcaria. 3 estrelas, meh.</td>\n",
       "      <td>negativo</td>\n",
       "    </tr>\n",
       "    <tr>\n",
       "      <th>4</th>\n",
       "      <td>5</td>\n",
       "      <td>Filmes de fotos de latão não é uma palavra apropriada para eles, na verdade, são um tanto ousados. Suas qualidades visuais atraentes são reminiscentes de comerciais de TV caros de alta classe. Mas, infelizmente, as imagens de Brass são longas-metragens com o pretexto de querer entreter os telespectadores durante mais de duas horas! Nisto eles falham miseravelmente, suas qualidades eróticas inegáveis, mas bastante suaves e flácidas que vaporosas, não resistentes.Senso 45 é um remake de um filme de Luchino Visconti com o mesmo título e Alida Valli e Farley Granger na liderança. O original conta uma história de amor sem sentido e luxúria em Veneza e arredores durante as guerras italianas de independência. Brass moveu a ação do século 19 para o século 20, em 1945, para ser exato, então há murais de Mussolini, homens de camisa preta, uniformes alemães ou o traje esfarrapado dos partidários. Mas é apenas fachada, o contexto histórico é completamente insignificante. Anna Galiena interpreta a atraente mulher aristocrática que se apaixona pelo cara amoral da SS que sempre usa muito batom. Ela é uma atriz italiana atraente, versátil e bem treinada e claramente acima do material. Sua ampla gama de expressões faciais sinalizando tédio, aversão, prazer, medo, ódio ... e êxtase são a melhor razão para assistir a esta foto e vale duas estrelas. Ela suporta este material basicamente inútil com uma quantidade impressionante de dignidade. Desejo que algumas partes realmente boas apareçam para ela. Ela realmente merece isso.</td>\n",
       "      <td>negativo</td>\n",
       "    </tr>\n",
       "  </tbody>\n",
       "</table>\n",
       "</div>"
      ],
      "text/plain": [
       "   id  \\\n",
       "0   1   \n",
       "1   2   \n",
       "2   3   \n",
       "3   4   \n",
       "4   5   \n",
       "\n",
       "                                                                                                                                                                                                                                                                                                                                                                                                                                                                                                                                                                                                                                                                                                                                                                                                                                                                                                                                                                                                                                                                                                                                                                                                                                                                                                                                                                                                                                                                                                                                                                                                                                                                                                                                                                                                                                                                                                                    text_pt  \\\n",
       "0                                                                                                                                                                                                                                                                                                                                                                                                                                                                                                                                                                                                                                                                                                                                                                                                                                                                                                        Mais uma vez, o Sr. Costner arrumou um filme por muito mais tempo do que o necessário. Além das terríveis seqüências de resgate no mar, das quais há muito poucas, eu simplesmente não me importei com nenhum dos personagens. A maioria de nós tem fantasmas no armário, e o personagem Costers é realizado logo no início, e depois esquecido até muito mais tarde, quando eu não me importava. O personagem com o qual deveríamos nos importar é muito arrogante e superconfiante, Ashton Kutcher. O problema é que ele sai como um garoto que pensa que é melhor do que qualquer outra pessoa ao seu redor e não mostra sinais de um armário desordenado. Seu único obstáculo parece estar vencendo Costner. Finalmente, quando estamos bem além do meio do caminho, Costner nos conta sobre os fantasmas dos Kutchers. Somos informados de por que Kutcher é levado a ser o melhor sem pressentimentos ou presságios anteriores. Nenhuma mágica aqui, era tudo que eu podia fazer para não desligar uma hora.   \n",
       "1                                                                                                                                                                                                                                                                                                                                                                                                                                                                                             Este é um exemplo do motivo pelo qual a maioria dos filmes de ação são os mesmos. Genérico e chato, não há nada que valha a pena assistir aqui. Um completo desperdício dos talentos de Ice-T e Cubo de Gelo que foram mal aproveitados, cada um comprovando que são capazes de atuar e agir bem. Não se incomode com este, vá ver New Jack City, Ricochet ou assistir New York Undercover para Ice-T, ou Boyz no Hood, Higher Learning ou Friday for Ice Cube e ver o negócio real. Ice-Ts horrivelmente clichê diálogo sozinho faz este filme ralar os dentes, e eu ainda estou me perguntando o que diabos Bill Paxton estava fazendo neste filme? E por que diabos ele sempre interpreta exatamente o mesmo personagem? Dos extraterrestres em diante, todos os filmes que eu vi com Bill Paxton o fizeram interpretar exatamente o mesmo personagem irritante, e pelo menos em Aliens seu personagem morreu, o que o tornou um pouco gratificante ... No geral, esse é lixo de ação de segunda classe. Existem incontáveis ​​filmes melhores para ver, e se você realmente quiser ver esse filme, assista a Judgment Night, que é praticamente uma cópia carbono, mas tem melhor atuação e um roteiro melhor. A única coisa que fez isso valer a pena assistir foi uma mão decente na câmera - a cinematografia era quase refrescante, o que chega perto de compensar o horrível filme em si - mas não é bem assim. 4/10   \n",
       "2                                                                                                                                                                                                                                                                                                                                                                                                                                                                                                                                                                                                                                                                                         Primeiro de tudo eu odeio esses raps imbecis, que não poderiam agir se tivessem uma arma pressionada contra suas testas. Tudo o que eles fazem é amaldiçoar e atirar um no outro e agir como uma versão clichê de gangsters. O filme não leva mais de cinco minutos para explicar o que está acontecendo antes que já estivessem no armazém. Não há um único personagem simpático nesse filme, com exceção do sem-teto, que também é o único com metade do cérebro. William Paxton e William Sadler são ambos \"hill billies\" e Sadler é tão vilão quanto os gângsteres. Eu não gostava dele desde o começo. O filme está cheio de violência sem sentido e especialidade de Walter Hills: pessoas caindo de janelas com vidros voando por toda parte. Não há praticamente nenhum enredo e é um grande problema quando você torce por ninguém. Todo mundo morre, exceto Paxton e o sem-teto e todos recebem o que merecem. Os dois únicos negros que podem atuar são o sem-teto e o viciado, mas são atores de profissão, não irritantes rappers feios. Fique longe dessa porcaria. e observe 48 horas 1 e 2 em vez disso. No mínimo, eles têm personagens de que você gosta, senso de humor e nada além de atores reais no elenco.   \n",
       "3  Nem mesmo os Beatles puderam escrever músicas que todos gostassem, e embora Walter Hill não seja um mop-top, ele é incomparável quando se trata de filmes de ação instigantes. Os anos noventa chegaram e as plataformas sociais estavam mudando em música e cinema, o surgimento da estrela de cinema do Rapper estava em pleno andamento, a atuação ficou em segundo plano para cada homem dominar o sotaque regional e a atuação transparente. Este foi um dos muitos filmes de ice-t que eu vi quando criança e amei, só para assisti-los mais tarde e me encolher. Bill Paxton e William Sadler são bombeiros com vidas básicas até que um inquilino em chamas prestes a pegar fogo com um mapa com implicações douradas. Eu entrego a Walter para rapidamente e ordenadamente configurar os personagens principais e localização. Mas eu culpo todos os envolvidos por produzir performances do Lame-o. O gelo e o cubo devem ter ficado muito quentes neste momento, e embora eu tenha gostado de suas carreiras como rappers, na minha opinião, eles ficaram insatisfeitos com esse filme. São cerca de noventa minutos de um cara ridiculamente virando as costas para o outro cara até o ponto em que você se encontra bloqueado em múltiplos estados de descrença. Agora este é um filme, não é um documentário, então eu não vou perder meu tempo recontando todas as reviravoltas estúpidas neste filme, mas havia muitos, e eles não levaram a lugar nenhum. Eu tenho a sensação de ver isso que todo mundo no set era sordeto de confuso e apenas jogando as coisas fora do punho. Há duas coisas que eu ainda gosto, uma envolve uma cena com uma agulha e a outra é uma enorme pistola 45 Sadlers. Bottom line este filme é como pizza de dominó. Sim, eu comeria se estivesse com fome e eu não estivesse com vontade de cozinhar, mas eu estou bem ciente que tem gosto de porcaria. 3 estrelas, meh.   \n",
       "4                                                                                                                                                                                                                                                                                                                               Filmes de fotos de latão não é uma palavra apropriada para eles, na verdade, são um tanto ousados. Suas qualidades visuais atraentes são reminiscentes de comerciais de TV caros de alta classe. Mas, infelizmente, as imagens de Brass são longas-metragens com o pretexto de querer entreter os telespectadores durante mais de duas horas! Nisto eles falham miseravelmente, suas qualidades eróticas inegáveis, mas bastante suaves e flácidas que vaporosas, não resistentes.Senso 45 é um remake de um filme de Luchino Visconti com o mesmo título e Alida Valli e Farley Granger na liderança. O original conta uma história de amor sem sentido e luxúria em Veneza e arredores durante as guerras italianas de independência. Brass moveu a ação do século 19 para o século 20, em 1945, para ser exato, então há murais de Mussolini, homens de camisa preta, uniformes alemães ou o traje esfarrapado dos partidários. Mas é apenas fachada, o contexto histórico é completamente insignificante. Anna Galiena interpreta a atraente mulher aristocrática que se apaixona pelo cara amoral da SS que sempre usa muito batom. Ela é uma atriz italiana atraente, versátil e bem treinada e claramente acima do material. Sua ampla gama de expressões faciais sinalizando tédio, aversão, prazer, medo, ódio ... e êxtase são a melhor razão para assistir a esta foto e vale duas estrelas. Ela suporta este material basicamente inútil com uma quantidade impressionante de dignidade. Desejo que algumas partes realmente boas apareçam para ela. Ela realmente merece isso.   \n",
       "\n",
       "  sentiment  \n",
       "0  negativo  \n",
       "1  negativo  \n",
       "2  negativo  \n",
       "3  negativo  \n",
       "4  negativo  "
      ]
     },
     "execution_count": 5,
     "metadata": {},
     "output_type": "execute_result"
    }
   ],
   "source": [
    "df.head()"
   ]
  },
  {
   "cell_type": "markdown",
   "id": "c2111347-93de-4079-bae5-fbc5970bfd52",
   "metadata": {},
   "source": [
    "### Deletando colunas que não são de interesse"
   ]
  },
  {
   "cell_type": "code",
   "execution_count": 6,
   "id": "4fc5e09f-9263-4d0f-bb72-4870d3fcf0da",
   "metadata": {
    "tags": []
   },
   "outputs": [],
   "source": [
    "df.drop(columns=['id'], inplace=True)"
   ]
  },
  {
   "cell_type": "markdown",
   "id": "c97d941e-d499-4545-9a92-4211e782e4d9",
   "metadata": {},
   "source": [
    "### Identificando quais são os sentimentos na base"
   ]
  },
  {
   "cell_type": "code",
   "execution_count": 7,
   "id": "ec55238d-2b97-421b-bd54-a2866b11fd0e",
   "metadata": {
    "tags": []
   },
   "outputs": [
    {
     "data": {
      "text/plain": [
       "0        negativo\n",
       "12389    positivo\n",
       "Name: sentiment, dtype: object"
      ]
     },
     "execution_count": 7,
     "metadata": {},
     "output_type": "execute_result"
    }
   ],
   "source": [
    "df['sentiment'].drop_duplicates()"
   ]
  },
  {
   "cell_type": "markdown",
   "id": "9ba1fefd-18bd-4cd8-a0d5-be64036e9fed",
   "metadata": {},
   "source": [
    "### Verificando a proporção de sentimentos para cada um"
   ]
  },
  {
   "cell_type": "code",
   "execution_count": 8,
   "id": "804d93c0-8827-4e06-a939-23a50045e125",
   "metadata": {},
   "outputs": [
    {
     "data": {
      "text/plain": [
       "sentiment\n",
       "negativo    24765\n",
       "positivo    24694\n",
       "Name: count, dtype: int64"
      ]
     },
     "execution_count": 8,
     "metadata": {},
     "output_type": "execute_result"
    }
   ],
   "source": [
    "df['sentiment'].value_counts()"
   ]
  },
  {
   "cell_type": "markdown",
   "id": "4b3ebf89-1ccb-4a28-bd28-2e4831055f40",
   "metadata": {},
   "source": [
    "### Balanceando a base de acordo com os sentimentos"
   ]
  },
  {
   "cell_type": "code",
   "execution_count": 9,
   "id": "9025f7cc-f882-44b7-a3fe-a9eb00454dfb",
   "metadata": {
    "tags": []
   },
   "outputs": [
    {
     "data": {
      "text/plain": [
       "sentiment\n",
       "negativo    24694\n",
       "positivo    24694\n",
       "Name: count, dtype: int64"
      ]
     },
     "execution_count": 9,
     "metadata": {},
     "output_type": "execute_result"
    }
   ],
   "source": [
    "min_rows = df.groupby('sentiment').apply(lambda x: len(x)).min()\n",
    "df = df.groupby('sentiment').apply(lambda x: x.sample(min_rows)).reset_index(drop=True)\n",
    "df['sentiment'].value_counts()"
   ]
  },
  {
   "cell_type": "markdown",
   "id": "02026c67-cc84-4cb2-9245-1e08fa7054b3",
   "metadata": {},
   "source": [
    "### Transformando a base de dados"
   ]
  },
  {
   "cell_type": "code",
   "execution_count": 10,
   "id": "ff0f8290-d2b8-4c76-be0e-73237da68786",
   "metadata": {
    "tags": []
   },
   "outputs": [],
   "source": [
    "def clean_text(sentence):\n",
    "    doc = nlp(sentence) \n",
    "    tokens = [token.lemma_.lower() for token in doc \n",
    "              if  not token.is_punct and # Filter punctuation \n",
    "                  not token.is_stop  and # Filter stopwords\n",
    "                  not token.like_num and # Filter numeric representations\n",
    "                  not token.like_url     # Filter urls\n",
    "             ]\n",
    "    cleaned_text = emoji.replace_emoji(' '.join(tokens), replace='') # Remove emoticons\n",
    "    return cleaned_text.replace(\"  \", \" \") # Remove extra whitespaces\n",
    "df['processed_text'] = df['text_pt'].apply(clean_text)"
   ]
  },
  {
   "cell_type": "markdown",
   "id": "aef28e4e-ff98-4a35-bad4-3d1e06f9e879",
   "metadata": {},
   "source": [
    "### Comparando os textos original e transformado"
   ]
  },
  {
   "cell_type": "code",
   "execution_count": 11,
   "id": "e7444065-04c1-4131-8dcd-69dd25e35524",
   "metadata": {
    "tags": []
   },
   "outputs": [
    {
     "data": {
      "text/html": [
       "<div>\n",
       "<style scoped>\n",
       "    .dataframe tbody tr th:only-of-type {\n",
       "        vertical-align: middle;\n",
       "    }\n",
       "\n",
       "    .dataframe tbody tr th {\n",
       "        vertical-align: top;\n",
       "    }\n",
       "\n",
       "    .dataframe thead th {\n",
       "        text-align: right;\n",
       "    }\n",
       "</style>\n",
       "<table border=\"1\" class=\"dataframe\">\n",
       "  <thead>\n",
       "    <tr style=\"text-align: right;\">\n",
       "      <th></th>\n",
       "      <th>text_pt</th>\n",
       "      <th>processed_text</th>\n",
       "    </tr>\n",
       "  </thead>\n",
       "  <tbody>\n",
       "    <tr>\n",
       "      <th>0</th>\n",
       "      <td>Este filme foi bom relativamente durante as primeiras partes dele. Nós temos uma história, a partir de 3 pontos de vista. Então vamos encontrar algumas pistas e completar a história. Oh, espere ... nada disso importa, porque os caras do FBI são os bandidos! Embora isso tenha sido uma grande reviravolta ... foi quase uma reviravolta terrível. Eu imediatamente rebaixei o filme de um 7 talvez 8 para 3 com base nos últimos 10-15 minutos dele. Alguém mais não vê porque o twist é tão ruim? Sim, é um bom choque. Mas é ruim porque não tem absolutamente nada a ver com a hora e os vinte minutos anteriores. Não há conexão com os assassinos. Os assassinos estão em cerca de 5 minutos desse filme como assassinos e os dois agentes do FBI estão em apenas 15 minutos da hora anterior e vinte. Nós conseguimos ... vigilância ... Oh, os assassinos são voyeurs. O que não faz sentido, porque eles foram descritos apenas em termos limitados como sendo apenas psicopatas. E as horas e vinte minutos de vigilância que estamos vendo nos 3 andares saem pela janela enquanto todos estão mortos em 5 minutos. Tudo isso torna o final ainda mais ridículo. Oh, eles mataram um monte de agentes do FBI no começo ... o que agentes do FBI dormem juntos? Tudo na mesma sala. Ser encontrado e assassinado por amadores e depois personificado por pessoas que não sabem nada sobre serem agentes do FBI? Um policial a 3 metros de distância, aparentemente, não consegue acertar nenhum com uma pistola policial padrão que pode disparar vários tiros. Eu odeio filmes que tentam fazer você se sentir como isso poderia ser real quando eles fazem saltos absurdos que eles acham que vamos acreditar. A outra coisa é que o filme termina cerca de 10-15 minutos depois que eles são revelados como os assassinos com uma garota de pé no campo em algum lugar ...</td>\n",
       "      <td>filme relativamente durante primeiro parte de ele história vista ir encontrar pista completar história oh esperar importar cara fbi bandido ter ser reviravolta quase reviravolta terrível imediatamente rebaixei filme base último 10-15 minuto de ele alguém ver twist ruim choque ruim absolutamente hora minuto anterior haver conexão assassino assassino cerca minuto filme assassino agente fbi minuto hora anterior conseguir vigilância oh assassino voyeurs sentido descritos termos limitar ser psicopata hora minuto vigilância estar ver andar sair janela morto minuto tornar ridículo oh matar monte agente fbi começo agente fbi dormer junto mesmo sala encontrar assassinar amador personificar pessoa saber ser agente fbi policial metro distância aparentemente conseguir acertar nenhum pistola policial padrão disparar tiro odeio filme tentar sentir poder real salto absurdo achar ir acreditar filme terminar cerca 10-15 minuto revelar assassino garota pé campo algum</td>\n",
       "    </tr>\n",
       "  </tbody>\n",
       "</table>\n",
       "</div>"
      ],
      "text/plain": [
       "                                                                                                                                                                                                                                                                                                                                                                                                                                                                                                                                                                                                                                                                                                                                                                                                                                                                                                                                                                                                                                                                                                                                                                                                                                                                                                                                                                                                                                                                                                                                                                                                                                                                                                                                                                                                                                                                                        text_pt  \\\n",
       "0  Este filme foi bom relativamente durante as primeiras partes dele. Nós temos uma história, a partir de 3 pontos de vista. Então vamos encontrar algumas pistas e completar a história. Oh, espere ... nada disso importa, porque os caras do FBI são os bandidos! Embora isso tenha sido uma grande reviravolta ... foi quase uma reviravolta terrível. Eu imediatamente rebaixei o filme de um 7 talvez 8 para 3 com base nos últimos 10-15 minutos dele. Alguém mais não vê porque o twist é tão ruim? Sim, é um bom choque. Mas é ruim porque não tem absolutamente nada a ver com a hora e os vinte minutos anteriores. Não há conexão com os assassinos. Os assassinos estão em cerca de 5 minutos desse filme como assassinos e os dois agentes do FBI estão em apenas 15 minutos da hora anterior e vinte. Nós conseguimos ... vigilância ... Oh, os assassinos são voyeurs. O que não faz sentido, porque eles foram descritos apenas em termos limitados como sendo apenas psicopatas. E as horas e vinte minutos de vigilância que estamos vendo nos 3 andares saem pela janela enquanto todos estão mortos em 5 minutos. Tudo isso torna o final ainda mais ridículo. Oh, eles mataram um monte de agentes do FBI no começo ... o que agentes do FBI dormem juntos? Tudo na mesma sala. Ser encontrado e assassinado por amadores e depois personificado por pessoas que não sabem nada sobre serem agentes do FBI? Um policial a 3 metros de distância, aparentemente, não consegue acertar nenhum com uma pistola policial padrão que pode disparar vários tiros. Eu odeio filmes que tentam fazer você se sentir como isso poderia ser real quando eles fazem saltos absurdos que eles acham que vamos acreditar. A outra coisa é que o filme termina cerca de 10-15 minutos depois que eles são revelados como os assassinos com uma garota de pé no campo em algum lugar ...   \n",
       "\n",
       "                                                                                                                                                                                                                                                                                                                                                                                                                                                                                                                                                                                                                                                                                                                                                                                                                                                                                                                                                                                        processed_text  \n",
       "0  filme relativamente durante primeiro parte de ele história vista ir encontrar pista completar história oh esperar importar cara fbi bandido ter ser reviravolta quase reviravolta terrível imediatamente rebaixei filme base último 10-15 minuto de ele alguém ver twist ruim choque ruim absolutamente hora minuto anterior haver conexão assassino assassino cerca minuto filme assassino agente fbi minuto hora anterior conseguir vigilância oh assassino voyeurs sentido descritos termos limitar ser psicopata hora minuto vigilância estar ver andar sair janela morto minuto tornar ridículo oh matar monte agente fbi começo agente fbi dormer junto mesmo sala encontrar assassinar amador personificar pessoa saber ser agente fbi policial metro distância aparentemente conseguir acertar nenhum pistola policial padrão disparar tiro odeio filme tentar sentir poder real salto absurdo achar ir acreditar filme terminar cerca 10-15 minuto revelar assassino garota pé campo algum  "
      ]
     },
     "execution_count": 11,
     "metadata": {},
     "output_type": "execute_result"
    }
   ],
   "source": [
    "df.drop(columns=['sentiment']).head(1)"
   ]
  },
  {
   "cell_type": "markdown",
   "id": "470e8e75-62bb-4447-bc80-716c0b21c7ad",
   "metadata": {},
   "source": [
    "### Removendo a coluna original, pois não será mais usada"
   ]
  },
  {
   "cell_type": "code",
   "execution_count": 12,
   "id": "15cc0529-97d8-40b9-bed5-b7e4de06f8f2",
   "metadata": {
    "tags": []
   },
   "outputs": [],
   "source": [
    "df.drop(columns=['text_pt'], inplace=True)"
   ]
  },
  {
   "cell_type": "markdown",
   "id": "c4d672e0-eeab-40c0-831d-9338fd556a9f",
   "metadata": {},
   "source": [
    "### Preparando o LinearSVC e separando a base de dados em bases de treinamento e teste"
   ]
  },
  {
   "cell_type": "code",
   "execution_count": 13,
   "id": "7f1f4060-38b4-4bf9-a002-72e84b2fe1c0",
   "metadata": {
    "tags": []
   },
   "outputs": [
    {
     "name": "stdout",
     "output_type": "stream",
     "text": [
      "(39510,) (9878,)\n"
     ]
    }
   ],
   "source": [
    "tfidf = TfidfVectorizer()\n",
    "svm = LinearSVC(dual='auto')\n",
    "steps = [('tfidf',tfidf),('svm',svm)]\n",
    "pipe = Pipeline(steps)\n",
    "X = df['processed_text']\n",
    "y = df['sentiment']\n",
    "X_train, X_test, y_train, y_test = train_test_split(X, y, test_size = 0.2)\n",
    "pipe.fit(X_train,y_train)\n",
    "y_pred = pipe.predict(X_test)\n",
    "print(X_train.shape,y_test.shape)"
   ]
  },
  {
   "cell_type": "markdown",
   "id": "0c8e37af-ef86-404f-ac55-27b79cf48e4c",
   "metadata": {},
   "source": [
    "### Preparando o pipeline de aprendizado"
   ]
  },
  {
   "cell_type": "code",
   "execution_count": 14,
   "id": "f2249b70-f03a-4a7e-88e1-e163ddd7d637",
   "metadata": {
    "tags": []
   },
   "outputs": [
    {
     "data": {
      "text/html": [
       "<style>#sk-container-id-1 {color: black;}#sk-container-id-1 pre{padding: 0;}#sk-container-id-1 div.sk-toggleable {background-color: white;}#sk-container-id-1 label.sk-toggleable__label {cursor: pointer;display: block;width: 100%;margin-bottom: 0;padding: 0.3em;box-sizing: border-box;text-align: center;}#sk-container-id-1 label.sk-toggleable__label-arrow:before {content: \"▸\";float: left;margin-right: 0.25em;color: #696969;}#sk-container-id-1 label.sk-toggleable__label-arrow:hover:before {color: black;}#sk-container-id-1 div.sk-estimator:hover label.sk-toggleable__label-arrow:before {color: black;}#sk-container-id-1 div.sk-toggleable__content {max-height: 0;max-width: 0;overflow: hidden;text-align: left;background-color: #f0f8ff;}#sk-container-id-1 div.sk-toggleable__content pre {margin: 0.2em;color: black;border-radius: 0.25em;background-color: #f0f8ff;}#sk-container-id-1 input.sk-toggleable__control:checked~div.sk-toggleable__content {max-height: 200px;max-width: 100%;overflow: auto;}#sk-container-id-1 input.sk-toggleable__control:checked~label.sk-toggleable__label-arrow:before {content: \"▾\";}#sk-container-id-1 div.sk-estimator input.sk-toggleable__control:checked~label.sk-toggleable__label {background-color: #d4ebff;}#sk-container-id-1 div.sk-label input.sk-toggleable__control:checked~label.sk-toggleable__label {background-color: #d4ebff;}#sk-container-id-1 input.sk-hidden--visually {border: 0;clip: rect(1px 1px 1px 1px);clip: rect(1px, 1px, 1px, 1px);height: 1px;margin: -1px;overflow: hidden;padding: 0;position: absolute;width: 1px;}#sk-container-id-1 div.sk-estimator {font-family: monospace;background-color: #f0f8ff;border: 1px dotted black;border-radius: 0.25em;box-sizing: border-box;margin-bottom: 0.5em;}#sk-container-id-1 div.sk-estimator:hover {background-color: #d4ebff;}#sk-container-id-1 div.sk-parallel-item::after {content: \"\";width: 100%;border-bottom: 1px solid gray;flex-grow: 1;}#sk-container-id-1 div.sk-label:hover label.sk-toggleable__label {background-color: #d4ebff;}#sk-container-id-1 div.sk-serial::before {content: \"\";position: absolute;border-left: 1px solid gray;box-sizing: border-box;top: 0;bottom: 0;left: 50%;z-index: 0;}#sk-container-id-1 div.sk-serial {display: flex;flex-direction: column;align-items: center;background-color: white;padding-right: 0.2em;padding-left: 0.2em;position: relative;}#sk-container-id-1 div.sk-item {position: relative;z-index: 1;}#sk-container-id-1 div.sk-parallel {display: flex;align-items: stretch;justify-content: center;background-color: white;position: relative;}#sk-container-id-1 div.sk-item::before, #sk-container-id-1 div.sk-parallel-item::before {content: \"\";position: absolute;border-left: 1px solid gray;box-sizing: border-box;top: 0;bottom: 0;left: 50%;z-index: -1;}#sk-container-id-1 div.sk-parallel-item {display: flex;flex-direction: column;z-index: 1;position: relative;background-color: white;}#sk-container-id-1 div.sk-parallel-item:first-child::after {align-self: flex-end;width: 50%;}#sk-container-id-1 div.sk-parallel-item:last-child::after {align-self: flex-start;width: 50%;}#sk-container-id-1 div.sk-parallel-item:only-child::after {width: 0;}#sk-container-id-1 div.sk-dashed-wrapped {border: 1px dashed gray;margin: 0 0.4em 0.5em 0.4em;box-sizing: border-box;padding-bottom: 0.4em;background-color: white;}#sk-container-id-1 div.sk-label label {font-family: monospace;font-weight: bold;display: inline-block;line-height: 1.2em;}#sk-container-id-1 div.sk-label-container {text-align: center;}#sk-container-id-1 div.sk-container {/* jupyter's `normalize.less` sets `[hidden] { display: none; }` but bootstrap.min.css set `[hidden] { display: none !important; }` so we also need the `!important` here to be able to override the default hidden behavior on the sphinx rendered scikit-learn.org. See: https://github.com/scikit-learn/scikit-learn/issues/21755 */display: inline-block !important;position: relative;}#sk-container-id-1 div.sk-text-repr-fallback {display: none;}</style><div id=\"sk-container-id-1\" class=\"sk-top-container\"><div class=\"sk-text-repr-fallback\"><pre>Pipeline(steps=[(&#x27;tfidf&#x27;, TfidfVectorizer()), (&#x27;svm&#x27;, LinearSVC(dual=&#x27;auto&#x27;))])</pre><b>In a Jupyter environment, please rerun this cell to show the HTML representation or trust the notebook. <br />On GitHub, the HTML representation is unable to render, please try loading this page with nbviewer.org.</b></div><div class=\"sk-container\" hidden><div class=\"sk-item sk-dashed-wrapped\"><div class=\"sk-label-container\"><div class=\"sk-label sk-toggleable\"><input class=\"sk-toggleable__control sk-hidden--visually\" id=\"sk-estimator-id-1\" type=\"checkbox\" ><label for=\"sk-estimator-id-1\" class=\"sk-toggleable__label sk-toggleable__label-arrow\">Pipeline</label><div class=\"sk-toggleable__content\"><pre>Pipeline(steps=[(&#x27;tfidf&#x27;, TfidfVectorizer()), (&#x27;svm&#x27;, LinearSVC(dual=&#x27;auto&#x27;))])</pre></div></div></div><div class=\"sk-serial\"><div class=\"sk-item\"><div class=\"sk-estimator sk-toggleable\"><input class=\"sk-toggleable__control sk-hidden--visually\" id=\"sk-estimator-id-2\" type=\"checkbox\" ><label for=\"sk-estimator-id-2\" class=\"sk-toggleable__label sk-toggleable__label-arrow\">TfidfVectorizer</label><div class=\"sk-toggleable__content\"><pre>TfidfVectorizer()</pre></div></div></div><div class=\"sk-item\"><div class=\"sk-estimator sk-toggleable\"><input class=\"sk-toggleable__control sk-hidden--visually\" id=\"sk-estimator-id-3\" type=\"checkbox\" ><label for=\"sk-estimator-id-3\" class=\"sk-toggleable__label sk-toggleable__label-arrow\">LinearSVC</label><div class=\"sk-toggleable__content\"><pre>LinearSVC(dual=&#x27;auto&#x27;)</pre></div></div></div></div></div></div></div>"
      ],
      "text/plain": [
       "Pipeline(steps=[('tfidf', TfidfVectorizer()), ('svm', LinearSVC(dual='auto'))])"
      ]
     },
     "execution_count": 14,
     "metadata": {},
     "output_type": "execute_result"
    }
   ],
   "source": [
    "pipe.fit(X_train,y_train)"
   ]
  },
  {
   "cell_type": "markdown",
   "id": "7e0dd079-de49-4691-b46a-b199daa6045e",
   "metadata": {},
   "source": [
    "### Testando o modelo"
   ]
  },
  {
   "cell_type": "code",
   "execution_count": 15,
   "id": "6901a3c0-8504-4227-b429-fa69fe0b2ae9",
   "metadata": {
    "tags": []
   },
   "outputs": [],
   "source": [
    "y_pred = pipe.predict(X_test)"
   ]
  },
  {
   "cell_type": "markdown",
   "id": "88ffcfb9-60b9-4bd0-bdf8-35fef840629a",
   "metadata": {},
   "source": [
    "### Obtendo as métricas de avaliação"
   ]
  },
  {
   "cell_type": "code",
   "execution_count": 16,
   "id": "037a1b10-fffd-48ed-a713-60dc374e6e16",
   "metadata": {
    "tags": []
   },
   "outputs": [
    {
     "name": "stdout",
     "output_type": "stream",
     "text": [
      "Métricas\n",
      "              precision    recall  f1-score   support\n",
      "\n",
      "    negativo       0.89      0.87      0.88      4966\n",
      "    positivo       0.88      0.89      0.88      4912\n",
      "\n",
      "    accuracy                           0.88      9878\n",
      "   macro avg       0.88      0.88      0.88      9878\n",
      "weighted avg       0.88      0.88      0.88      9878\n",
      "\n",
      "Matriz de Confusão\n",
      "               pred:positivo  pred:negativo\n",
      "true:positivo           4377            535\n",
      "true:negativo            624           4342\n"
     ]
    }
   ],
   "source": [
    "print('Métricas')\n",
    "print(classification_report(y_test,y_pred))\n",
    "print('Matriz de Confusão')\n",
    "cmtx = pd.DataFrame(\n",
    "    confusion_matrix(y_test, y_pred, labels=['positivo', 'negativo']), \n",
    "    index=['true:positivo', 'true:negativo'], \n",
    "    columns=['pred:positivo', 'pred:negativo']\n",
    ")\n",
    "print(cmtx)"
   ]
  },
  {
   "cell_type": "markdown",
   "id": "af11da95-7d65-4669-a5e6-865c814d8b24",
   "metadata": {},
   "source": [
    "### Testando o modelo com novas frases"
   ]
  },
  {
   "cell_type": "code",
   "execution_count": 17,
   "id": "a93cf086-57ea-4858-8263-5d293da07c25",
   "metadata": {
    "tags": []
   },
   "outputs": [
    {
     "name": "stdout",
     "output_type": "stream",
     "text": [
      "Sentence: Achei esse filme muito bom\n",
      "Sentiment:negativo\n",
      "Sentence: Perdi duas horas da minha vida\n",
      "Sentiment:negativo\n"
     ]
    }
   ],
   "source": [
    "sentence_1 = 'Achei esse filme muito bom'\n",
    "sentence_2 = 'Perdi duas horas da minha vida'\n",
    "print(f'Sentence: {sentence_1}\\nSentiment:{pipe.predict([sentence_1])[0]}')\n",
    "print(f'Sentence: {sentence_2}\\nSentiment:{pipe.predict([sentence_2])[0]}')"
   ]
  }
 ],
 "metadata": {
  "kernelspec": {
   "display_name": "Python 3 (ipykernel)",
   "language": "python",
   "name": "python3"
  },
  "language_info": {
   "codemirror_mode": {
    "name": "ipython",
    "version": 3
   },
   "file_extension": ".py",
   "mimetype": "text/x-python",
   "name": "python",
   "nbconvert_exporter": "python",
   "pygments_lexer": "ipython3",
   "version": "3.11.2"
  }
 },
 "nbformat": 4,
 "nbformat_minor": 5
}
